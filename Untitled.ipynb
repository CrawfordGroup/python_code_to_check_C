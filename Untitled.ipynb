{
 "cells": [
  {
   "cell_type": "code",
   "execution_count": 6,
   "metadata": {
    "collapsed": false
   },
   "outputs": [],
   "source": [
    "import numpy as np\n",
    "\n",
    "test = np.zeros(shape=(3,3,3,3))\n",
    "for i in range(3):\n",
    "    for j in range(3):\n",
    "        for a in range(3):\n",
    "            for b in range(3):\n",
    "                test[i][j][a][b] = int(i*1000 +j*100 + a*10 +b)"
   ]
  },
  {
   "cell_type": "code",
   "execution_count": 7,
   "metadata": {
    "collapsed": false
   },
   "outputs": [
    {
     "name": "stdout",
     "output_type": "stream",
     "text": [
      "[  0.00000000e+00   1.00000000e+00   2.00000000e+00   1.00000000e+01\n",
      "   1.10000000e+01   1.20000000e+01   2.00000000e+01   2.10000000e+01\n",
      "   2.20000000e+01   1.00000000e+02   1.01000000e+02   1.02000000e+02\n",
      "   1.10000000e+02   1.11000000e+02   1.12000000e+02   1.20000000e+02\n",
      "   1.21000000e+02   1.22000000e+02   2.00000000e+02   2.01000000e+02\n",
      "   2.02000000e+02   2.10000000e+02   2.11000000e+02   2.12000000e+02\n",
      "   2.20000000e+02   2.21000000e+02   2.22000000e+02   1.00000000e+03\n",
      "   1.00100000e+03   1.00200000e+03   1.01000000e+03   1.01100000e+03\n",
      "   1.01200000e+03   1.02000000e+03   1.02100000e+03   1.02200000e+03\n",
      "   1.10000000e+03   1.10100000e+03   1.10200000e+03   1.11000000e+03\n",
      "   1.11100000e+03   1.11200000e+03   1.12000000e+03   1.12100000e+03\n",
      "   1.12200000e+03   1.20000000e+03   1.20100000e+03   1.20200000e+03\n",
      "   1.21000000e+03   1.21100000e+03   1.21200000e+03   1.22000000e+03\n",
      "   1.22100000e+03   1.22200000e+03   2.00000000e+03   2.00100000e+03\n",
      "   2.00200000e+03   2.01000000e+03   2.01100000e+03   2.01200000e+03\n",
      "   2.02000000e+03   2.02100000e+03   2.02200000e+03   2.10000000e+03\n",
      "   2.10100000e+03   2.10200000e+03   2.11000000e+03   2.11100000e+03\n",
      "   2.11200000e+03   2.12000000e+03   2.12100000e+03   2.12200000e+03\n",
      "   2.20000000e+03   2.20100000e+03   2.20200000e+03   2.21000000e+03\n",
      "   2.21100000e+03   2.21200000e+03   2.22000000e+03   2.22100000e+03\n",
      "   2.22200000e+03]\n"
     ]
    }
   ],
   "source": [
    "print test.flatten()\n"
   ]
  },
  {
   "cell_type": "code",
   "execution_count": null,
   "metadata": {
    "collapsed": true
   },
   "outputs": [],
   "source": []
  }
 ],
 "metadata": {
  "anaconda-cloud": {},
  "kernelspec": {
   "display_name": "Python [default]",
   "language": "python",
   "name": "python2"
  },
  "language_info": {
   "codemirror_mode": {
    "name": "ipython",
    "version": 2
   },
   "file_extension": ".py",
   "mimetype": "text/x-python",
   "name": "python",
   "nbconvert_exporter": "python",
   "pygments_lexer": "ipython2",
   "version": "2.7.12"
  }
 },
 "nbformat": 4,
 "nbformat_minor": 1
}
